{
 "cells": [
  {
   "cell_type": "markdown",
   "id": "eb6bb2b5",
   "metadata": {},
   "source": [
    "# 📘 Week 7 – OGL Individual Activity\n",
    "## 🧮 Basic Business Analytics with Python (Excel Functions in Code + Graphs + Walkthroughs)\n",
    "\n",
    "**Goal:** Use Python to replicate Excel functions (`AVERAGE`, `SUMIF`, `COUNTIF`, `IF`, `IFS`) and visualize results. Then replicate these analyses in Excel, document your work, and submit via GitHub."
   ]
  },
  {
   "cell_type": "markdown",
   "id": "ee8488ad",
   "metadata": {},
   "source": [
    "### 📂 Files Needed (Download from Course Portal)\n",
    "- `superstore-basic-analytics-full-project.ipynb`\n",
    "- `Sample - Superstore.csv`\n",
    "- *(You will also create an Excel version)*"
   ]
  },
  {
   "cell_type": "markdown",
   "id": "9f52df9b",
   "metadata": {},
   "source": [
    "### 🛠️ Step 1: Upload the Dataset\n",
    "Use this cell to upload the CSV file to Colab."
   ]
  },
  {
   "cell_type": "code",
   "execution_count": null,
   "id": "caf0f01d",
   "metadata": {},
   "outputs": [],
   "source": [
    "from google.colab import files\n",
    "uploaded = files.upload()"
   ]
  },
  {
   "cell_type": "markdown",
   "id": "ab680f49",
   "metadata": {},
   "source": [
    "### 📊 Step 2: Load the Data\n",
    "We use `pandas` to load the dataset, `numpy` for calculations, and `matplotlib.pyplot` to make graphs."
   ]
  },
  {
   "cell_type": "code",
   "execution_count": null,
   "id": "4d4e4431",
   "metadata": {},
   "outputs": [],
   "source": [
    "import pandas as pd\n",
    "import numpy as np\n",
    "import matplotlib.pyplot as plt\n",
    "\n",
    "df = pd.read_csv('Sample - Superstore.csv', encoding='ISO-8859-1')\n",
    "df.head()"
   ]
  },
  {
   "cell_type": "markdown",
   "id": "5d57fb0b",
   "metadata": {},
   "source": [
    "### ✅ Task 1: AVERAGE – Average Profit Overall and by Region\n",
    "**Excel Equivalent:** `=AVERAGE()` and Pivot Table\n",
    "\n",
    "- First, we calculate the average of all values in the `Profit` column.\n",
    "- Then, we group data by `Region` and calculate average profit per region."
   ]
  },
  {
   "cell_type": "code",
   "execution_count": null,
   "id": "f7525e08",
   "metadata": {},
   "outputs": [],
   "source": [
    "print('Average Profit:', df['Profit'].mean())\n",
    "region_avg = df.groupby('Region')['Profit'].mean()\n",
    "print(region_avg)"
   ]
  },
  {
   "cell_type": "code",
   "execution_count": null,
   "id": "3eb9ac64",
   "metadata": {},
   "outputs": [],
   "source": [
    "region_avg.plot(kind='bar', title='Average Profit by Region')\n",
    "plt.ylabel('Average Profit')\n",
    "plt.show()"
   ]
  },
  {
   "cell_type": "markdown",
   "id": "76148fb0",
   "metadata": {},
   "source": [
    "### ✅ Task 2: SUMIF – Total Sales in Region 'West'\n",
    "**Excel Equivalent:** `=SUMIF()`\n",
    "\n",
    "- We filter the DataFrame for rows where `Region` is `'West'`\n",
    "- Then, we calculate the sum of the `Sales` column for that subset."
   ]
  },
  {
   "cell_type": "code",
   "execution_count": null,
   "id": "3a96250b",
   "metadata": {},
   "outputs": [],
   "source": [
    "west_sales = df[df['Region'] == 'West']['Sales'].sum()\n",
    "print('Total Sales in West:', west_sales)"
   ]
  },
  {
   "cell_type": "markdown",
   "id": "44395cd6",
   "metadata": {},
   "source": [
    "### ✅ Task 3: COUNTIF – Count Orders in 'Technology'\n",
    "**Excel Equivalent:** `=COUNTIF()`\n",
    "\n",
    "- We count the number of rows where the `Category` column is `'Technology'` using `.shape[0]`."
   ]
  },
  {
   "cell_type": "code",
   "execution_count": null,
   "id": "b9a8d779",
   "metadata": {},
   "outputs": [],
   "source": [
    "tech_orders = df[df['Category'] == 'Technology'].shape[0]\n",
    "print('Technology Orders:', tech_orders)"
   ]
  },
  {
   "cell_type": "markdown",
   "id": "6c53539a",
   "metadata": {},
   "source": [
    "### ✅ Task 4: IF – 'Performance' Based on Profit\n",
    "**Excel Equivalent:** `=IF(Profit > 0, 'High', 'Low')`\n",
    "\n",
    "- We use `np.where()` to assign `'High'` to rows with profit > 0 and `'Low'` otherwise."
   ]
  },
  {
   "cell_type": "code",
   "execution_count": null,
   "id": "39cc13d9",
   "metadata": {},
   "outputs": [],
   "source": [
    "df['Performance'] = np.where(df['Profit'] > 0, 'High', 'Low')\n",
    "df[['Profit', 'Performance']].head()"
   ]
  },
  {
   "cell_type": "code",
   "execution_count": null,
   "id": "76722719",
   "metadata": {},
   "outputs": [],
   "source": [
    "df['Performance'].value_counts().plot(kind='bar', title='Order Performance Counts')\n",
    "plt.ylabel('Count')\n",
    "plt.show()"
   ]
  },
  {
   "cell_type": "markdown",
   "id": "1a1a49d1",
   "metadata": {},
   "source": [
    "### ✅ Task 5: IFS – Profit Tier Classification\n",
    "**Excel Equivalent:** `=IFS()` or nested `=IF()`\n",
    "\n",
    "- We define ranges using `np.select()`:\n",
    "  - Profit < 0 → 'Loss'\n",
    "  - 0 ≤ Profit ≤ 500 → 'Low'\n",
    "  - 500 < Profit ≤ 2000 → 'Medium'\n",
    "  - Profit > 2000 → 'High'"
   ]
  },
  {
   "cell_type": "code",
   "execution_count": null,
   "id": "102dbc9d",
   "metadata": {},
   "outputs": [],
   "source": [
    "conditions = [\n",
    "    (df['Profit'] < 0),\n",
    "    (df['Profit'] >= 0) & (df['Profit'] <= 500),\n",
    "    (df['Profit'] > 500) & (df['Profit'] <= 2000),\n",
    "    (df['Profit'] > 2000)\n",
    "]\n",
    "choices = ['Loss', 'Low', 'Medium', 'High']\n",
    "df['Profit Tier'] = np.select(conditions, choices, default='Unknown')\n",
    "df[['Profit', 'Profit Tier']].head()"
   ]
  },
  {
   "cell_type": "code",
   "execution_count": null,
   "id": "798aa8f9",
   "metadata": {},
   "outputs": [],
   "source": [
    "df['Profit Tier'].value_counts().plot(kind='bar', title='Profit Tier Distribution')\n",
    "plt.ylabel('Number of Orders')\n",
    "plt.show()"
   ]
  },
  {
   "cell_type": "markdown",
   "id": "4603f68f",
   "metadata": {},
   "source": [
    "### ✅ Task 6: Total Sales per Category\n",
    "**Excel Equivalent:** Pivot Table with SUM on Sales by Category"
   ]
  },
  {
   "cell_type": "code",
   "execution_count": null,
   "id": "a166266b",
   "metadata": {},
   "outputs": [],
   "source": [
    "category_sales = df.groupby('Category')['Sales'].sum()\n",
    "print(category_sales)"
   ]
  },
  {
   "cell_type": "code",
   "execution_count": null,
   "id": "baa8dad7",
   "metadata": {},
   "outputs": [],
   "source": [
    "category_sales.plot(kind='bar', title='Total Sales per Category')\n",
    "plt.ylabel('Total Sales')\n",
    "plt.show()"
   ]
  },
  {
   "cell_type": "markdown",
   "id": "f46a4dff",
   "metadata": {},
   "source": [
    "### ✅ Task 7: Number of Orders by Ship Mode\n",
    "**Excel Equivalent:** Pivot Table COUNT on Ship Mode"
   ]
  },
  {
   "cell_type": "code",
   "execution_count": null,
   "id": "6fa76986",
   "metadata": {},
   "outputs": [],
   "source": [
    "shipmode_counts = df['Ship Mode'].value_counts()\n",
    "print(shipmode_counts)"
   ]
  },
  {
   "cell_type": "code",
   "execution_count": null,
   "id": "f71b4e05",
   "metadata": {},
   "outputs": [],
   "source": [
    "shipmode_counts.plot(kind='bar', title='Orders by Ship Mode')\n",
    "plt.ylabel('Orders')\n",
    "plt.show()"
   ]
  },
  {
   "cell_type": "markdown",
   "id": "be6131cd",
   "metadata": {},
   "source": [
    "### 🔁 Part 2: Do All Tasks in Excel Too\n",
    "Open `Sample - Superstore.csv` in Excel and replicate:\n",
    "\n",
    "- AVERAGE: `=AVERAGE()`\n",
    "- SUMIF, COUNTIF\n",
    "- IF for performance\n",
    "- IFS or nested IF for profit tier\n",
    "- Pivot Tables for sales and ship mode\n",
    "\n",
    "📁 Save your Excel file as: `superstore-basic-analytics-yourname.xlsx`"
   ]
  },
  {
   "cell_type": "markdown",
   "id": "66b33710",
   "metadata": {},
   "source": [
    "### 📁 GitHub Submission Instructions\n",
    "1. Create repo: `week7-basic-analytics-yourname`\n",
    "2. Upload:\n",
    "- `.ipynb` (this notebook)\n",
    "- `.xlsx` Excel file\n",
    "- `README.md`\n",
    "- (Optional) CSV dataset\n",
    "3. Make repo **Public**\n",
    "4. Submit GitHub link in course portal"
   ]
  },
  {
   "cell_type": "markdown",
   "id": "1ba96513",
   "metadata": {},
   "source": [
    "### 📝 README.md Template\n",
    "\n",
    "```markdown\n",
    "# Week 7 – Basic Business Analytics Project\n",
    "\n",
    "**Student:** Your Name  \n",
    "**Course:** CPSC 201 – Business Information Systems\n",
    "\n",
    "## 🔍 Summary\n",
    "Replicated Excel functions in Python and visualized data using Pandas and Matplotlib.\n",
    "\n",
    "## 📁 Files\n",
    "- .ipynb (Python version)\n",
    "- .xlsx (Excel version)\n",
    "- CSV (optional)\n",
    "\n",
    "## 📊 Insights\n",
    "- West had highest sales\n",
    "- Standard Class was most used shipping\n",
    "\n",
    "## 💡 Python vs Excel\n",
    "- Python is efficient for logic\n",
    "- Excel is visual but manual\n",
    "\n",
    "## ✅ How to Use\n",
    "Run notebook top to bottom. Open Excel file to compare.\n",
    "```"
   ]
  },
  {
   "cell_type": "markdown",
   "id": "189e2a77",
   "metadata": {},
   "source": [
    "### ✅ Submission Checklist\n",
    "- [ ] Notebook completed and saved\n",
    "- [ ] Excel file created\n",
    "- [ ] README.md written\n",
    "- [ ] GitHub repo public and submitted"
   ]
  }
 ],
 "metadata": {},
 "nbformat": 4,
 "nbformat_minor": 5
}
